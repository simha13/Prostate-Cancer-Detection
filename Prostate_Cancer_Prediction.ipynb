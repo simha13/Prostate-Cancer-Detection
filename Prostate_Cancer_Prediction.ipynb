{
  "nbformat": 4,
  "nbformat_minor": 0,
  "metadata": {
    "colab": {
      "provenance": [],
      "authorship_tag": "ABX9TyOUmvw+G9QRirNA20ds7Bsn",
      "include_colab_link": true
    },
    "kernelspec": {
      "name": "python3",
      "display_name": "Python 3"
    },
    "language_info": {
      "name": "python"
    }
  },
  "cells": [
    {
      "cell_type": "markdown",
      "metadata": {
        "id": "view-in-github",
        "colab_type": "text"
      },
      "source": [
        "<a href=\"https://colab.research.google.com/github/simha13/Prostate-Cancer-Detection/blob/main/Prostate_Cancer_Prediction.ipynb\" target=\"_parent\"><img src=\"https://colab.research.google.com/assets/colab-badge.svg\" alt=\"Open In Colab\"/></a>"
      ]
    },
    {
      "cell_type": "code",
      "execution_count": null,
      "metadata": {
        "id": "jbwTabVzI9YB"
      },
      "outputs": [],
      "source": [
        "import numpy as np\n",
        "import pandas as pd\n",
        "from sklearn.preprocessing import StandardScaler\n",
        "from sklearn.model_selection import train_test_split\n",
        "from sklearn.svm import SVC\n",
        "from sklearn.metrics import accuracy_score, classification_report, confusion_matrix, roc_curve, auc"
      ]
    },
    {
      "cell_type": "markdown",
      "source": [
        "Data Collection & Processing"
      ],
      "metadata": {
        "id": "jp0nWkOR1HTw"
      }
    },
    {
      "cell_type": "code",
      "source": [
        "prostate_cancer_dataset = pd.read_csv('/content/Prostate_Cancer.csv')"
      ],
      "metadata": {
        "id": "A7k9vIaK1NfW"
      },
      "execution_count": null,
      "outputs": []
    },
    {
      "cell_type": "code",
      "source": [
        "print(prostate_cancer_dataset)"
      ],
      "metadata": {
        "colab": {
          "base_uri": "https://localhost:8080/"
        },
        "id": "UvbK3y0ulDVy",
        "outputId": "1de83714-5ef3-4c70-ccd2-13d3d141da71"
      },
      "execution_count": null,
      "outputs": [
        {
          "output_type": "stream",
          "name": "stdout",
          "text": [
            "     id diagnosis_result  radius  texture  perimeter  area  smoothness  \\\n",
            "0     1                M      23       12        151   954       0.143   \n",
            "1     2                B       9       13        133  1326       0.143   \n",
            "2     3                M      21       27        130  1203       0.125   \n",
            "3     4                M      14       16         78   386       0.070   \n",
            "4     5                M       9       19        135  1297       0.141   \n",
            "..  ...              ...     ...      ...        ...   ...         ...   \n",
            "95   96                M      23       16        132  1264       0.091   \n",
            "96   97                B      22       14         78   451       0.105   \n",
            "97   98                B      19       27         62   295       0.102   \n",
            "98   99                B      21       24         74   413       0.090   \n",
            "99  100                M      16       27         94   643       0.098   \n",
            "\n",
            "    compactness  symmetry  fractal_dimension  \n",
            "0         0.278     0.242              0.079  \n",
            "1         0.079     0.181              0.057  \n",
            "2         0.160     0.207              0.060  \n",
            "3         0.284     0.260              0.097  \n",
            "4         0.133     0.181              0.059  \n",
            "..          ...       ...                ...  \n",
            "95        0.131     0.210              0.056  \n",
            "96        0.071     0.190              0.066  \n",
            "97        0.053     0.135              0.069  \n",
            "98        0.075     0.162              0.066  \n",
            "99        0.114     0.188              0.064  \n",
            "\n",
            "[100 rows x 10 columns]\n"
          ]
        }
      ]
    },
    {
      "cell_type": "code",
      "source": [
        "prostate_cancer_dataset.head()"
      ],
      "metadata": {
        "colab": {
          "base_uri": "https://localhost:8080/",
          "height": 206
        },
        "id": "EdJfpibzlJ6k",
        "outputId": "4a61535b-c0bf-4ed9-ffe8-4246e48f82ca"
      },
      "execution_count": null,
      "outputs": [
        {
          "output_type": "execute_result",
          "data": {
            "text/plain": [
              "   id diagnosis_result  radius  texture  perimeter  area  smoothness  \\\n",
              "0   1                M      23       12        151   954       0.143   \n",
              "1   2                B       9       13        133  1326       0.143   \n",
              "2   3                M      21       27        130  1203       0.125   \n",
              "3   4                M      14       16         78   386       0.070   \n",
              "4   5                M       9       19        135  1297       0.141   \n",
              "\n",
              "   compactness  symmetry  fractal_dimension  \n",
              "0        0.278     0.242              0.079  \n",
              "1        0.079     0.181              0.057  \n",
              "2        0.160     0.207              0.060  \n",
              "3        0.284     0.260              0.097  \n",
              "4        0.133     0.181              0.059  "
            ],
            "text/html": [
              "\n",
              "  <div id=\"df-61042344-f77e-4dd6-b24f-9b1cc7af9dcd\" class=\"colab-df-container\">\n",
              "    <div>\n",
              "<style scoped>\n",
              "    .dataframe tbody tr th:only-of-type {\n",
              "        vertical-align: middle;\n",
              "    }\n",
              "\n",
              "    .dataframe tbody tr th {\n",
              "        vertical-align: top;\n",
              "    }\n",
              "\n",
              "    .dataframe thead th {\n",
              "        text-align: right;\n",
              "    }\n",
              "</style>\n",
              "<table border=\"1\" class=\"dataframe\">\n",
              "  <thead>\n",
              "    <tr style=\"text-align: right;\">\n",
              "      <th></th>\n",
              "      <th>id</th>\n",
              "      <th>diagnosis_result</th>\n",
              "      <th>radius</th>\n",
              "      <th>texture</th>\n",
              "      <th>perimeter</th>\n",
              "      <th>area</th>\n",
              "      <th>smoothness</th>\n",
              "      <th>compactness</th>\n",
              "      <th>symmetry</th>\n",
              "      <th>fractal_dimension</th>\n",
              "    </tr>\n",
              "  </thead>\n",
              "  <tbody>\n",
              "    <tr>\n",
              "      <th>0</th>\n",
              "      <td>1</td>\n",
              "      <td>M</td>\n",
              "      <td>23</td>\n",
              "      <td>12</td>\n",
              "      <td>151</td>\n",
              "      <td>954</td>\n",
              "      <td>0.143</td>\n",
              "      <td>0.278</td>\n",
              "      <td>0.242</td>\n",
              "      <td>0.079</td>\n",
              "    </tr>\n",
              "    <tr>\n",
              "      <th>1</th>\n",
              "      <td>2</td>\n",
              "      <td>B</td>\n",
              "      <td>9</td>\n",
              "      <td>13</td>\n",
              "      <td>133</td>\n",
              "      <td>1326</td>\n",
              "      <td>0.143</td>\n",
              "      <td>0.079</td>\n",
              "      <td>0.181</td>\n",
              "      <td>0.057</td>\n",
              "    </tr>\n",
              "    <tr>\n",
              "      <th>2</th>\n",
              "      <td>3</td>\n",
              "      <td>M</td>\n",
              "      <td>21</td>\n",
              "      <td>27</td>\n",
              "      <td>130</td>\n",
              "      <td>1203</td>\n",
              "      <td>0.125</td>\n",
              "      <td>0.160</td>\n",
              "      <td>0.207</td>\n",
              "      <td>0.060</td>\n",
              "    </tr>\n",
              "    <tr>\n",
              "      <th>3</th>\n",
              "      <td>4</td>\n",
              "      <td>M</td>\n",
              "      <td>14</td>\n",
              "      <td>16</td>\n",
              "      <td>78</td>\n",
              "      <td>386</td>\n",
              "      <td>0.070</td>\n",
              "      <td>0.284</td>\n",
              "      <td>0.260</td>\n",
              "      <td>0.097</td>\n",
              "    </tr>\n",
              "    <tr>\n",
              "      <th>4</th>\n",
              "      <td>5</td>\n",
              "      <td>M</td>\n",
              "      <td>9</td>\n",
              "      <td>19</td>\n",
              "      <td>135</td>\n",
              "      <td>1297</td>\n",
              "      <td>0.141</td>\n",
              "      <td>0.133</td>\n",
              "      <td>0.181</td>\n",
              "      <td>0.059</td>\n",
              "    </tr>\n",
              "  </tbody>\n",
              "</table>\n",
              "</div>\n",
              "    <div class=\"colab-df-buttons\">\n",
              "\n",
              "  <div class=\"colab-df-container\">\n",
              "    <button class=\"colab-df-convert\" onclick=\"convertToInteractive('df-61042344-f77e-4dd6-b24f-9b1cc7af9dcd')\"\n",
              "            title=\"Convert this dataframe to an interactive table.\"\n",
              "            style=\"display:none;\">\n",
              "\n",
              "  <svg xmlns=\"http://www.w3.org/2000/svg\" height=\"24px\" viewBox=\"0 -960 960 960\">\n",
              "    <path d=\"M120-120v-720h720v720H120Zm60-500h600v-160H180v160Zm220 220h160v-160H400v160Zm0 220h160v-160H400v160ZM180-400h160v-160H180v160Zm440 0h160v-160H620v160ZM180-180h160v-160H180v160Zm440 0h160v-160H620v160Z\"/>\n",
              "  </svg>\n",
              "    </button>\n",
              "\n",
              "  <style>\n",
              "    .colab-df-container {\n",
              "      display:flex;\n",
              "      gap: 12px;\n",
              "    }\n",
              "\n",
              "    .colab-df-convert {\n",
              "      background-color: #E8F0FE;\n",
              "      border: none;\n",
              "      border-radius: 50%;\n",
              "      cursor: pointer;\n",
              "      display: none;\n",
              "      fill: #1967D2;\n",
              "      height: 32px;\n",
              "      padding: 0 0 0 0;\n",
              "      width: 32px;\n",
              "    }\n",
              "\n",
              "    .colab-df-convert:hover {\n",
              "      background-color: #E2EBFA;\n",
              "      box-shadow: 0px 1px 2px rgba(60, 64, 67, 0.3), 0px 1px 3px 1px rgba(60, 64, 67, 0.15);\n",
              "      fill: #174EA6;\n",
              "    }\n",
              "\n",
              "    .colab-df-buttons div {\n",
              "      margin-bottom: 4px;\n",
              "    }\n",
              "\n",
              "    [theme=dark] .colab-df-convert {\n",
              "      background-color: #3B4455;\n",
              "      fill: #D2E3FC;\n",
              "    }\n",
              "\n",
              "    [theme=dark] .colab-df-convert:hover {\n",
              "      background-color: #434B5C;\n",
              "      box-shadow: 0px 1px 3px 1px rgba(0, 0, 0, 0.15);\n",
              "      filter: drop-shadow(0px 1px 2px rgba(0, 0, 0, 0.3));\n",
              "      fill: #FFFFFF;\n",
              "    }\n",
              "  </style>\n",
              "\n",
              "    <script>\n",
              "      const buttonEl =\n",
              "        document.querySelector('#df-61042344-f77e-4dd6-b24f-9b1cc7af9dcd button.colab-df-convert');\n",
              "      buttonEl.style.display =\n",
              "        google.colab.kernel.accessAllowed ? 'block' : 'none';\n",
              "\n",
              "      async function convertToInteractive(key) {\n",
              "        const element = document.querySelector('#df-61042344-f77e-4dd6-b24f-9b1cc7af9dcd');\n",
              "        const dataTable =\n",
              "          await google.colab.kernel.invokeFunction('convertToInteractive',\n",
              "                                                    [key], {});\n",
              "        if (!dataTable) return;\n",
              "\n",
              "        const docLinkHtml = 'Like what you see? Visit the ' +\n",
              "          '<a target=\"_blank\" href=https://colab.research.google.com/notebooks/data_table.ipynb>data table notebook</a>'\n",
              "          + ' to learn more about interactive tables.';\n",
              "        element.innerHTML = '';\n",
              "        dataTable['output_type'] = 'display_data';\n",
              "        await google.colab.output.renderOutput(dataTable, element);\n",
              "        const docLink = document.createElement('div');\n",
              "        docLink.innerHTML = docLinkHtml;\n",
              "        element.appendChild(docLink);\n",
              "      }\n",
              "    </script>\n",
              "  </div>\n",
              "\n",
              "\n",
              "<div id=\"df-db690618-b8da-4d53-945e-402b4bb02441\">\n",
              "  <button class=\"colab-df-quickchart\" onclick=\"quickchart('df-db690618-b8da-4d53-945e-402b4bb02441')\"\n",
              "            title=\"Suggest charts\"\n",
              "            style=\"display:none;\">\n",
              "\n",
              "<svg xmlns=\"http://www.w3.org/2000/svg\" height=\"24px\"viewBox=\"0 0 24 24\"\n",
              "     width=\"24px\">\n",
              "    <g>\n",
              "        <path d=\"M19 3H5c-1.1 0-2 .9-2 2v14c0 1.1.9 2 2 2h14c1.1 0 2-.9 2-2V5c0-1.1-.9-2-2-2zM9 17H7v-7h2v7zm4 0h-2V7h2v10zm4 0h-2v-4h2v4z\"/>\n",
              "    </g>\n",
              "</svg>\n",
              "  </button>\n",
              "\n",
              "<style>\n",
              "  .colab-df-quickchart {\n",
              "      --bg-color: #E8F0FE;\n",
              "      --fill-color: #1967D2;\n",
              "      --hover-bg-color: #E2EBFA;\n",
              "      --hover-fill-color: #174EA6;\n",
              "      --disabled-fill-color: #AAA;\n",
              "      --disabled-bg-color: #DDD;\n",
              "  }\n",
              "\n",
              "  [theme=dark] .colab-df-quickchart {\n",
              "      --bg-color: #3B4455;\n",
              "      --fill-color: #D2E3FC;\n",
              "      --hover-bg-color: #434B5C;\n",
              "      --hover-fill-color: #FFFFFF;\n",
              "      --disabled-bg-color: #3B4455;\n",
              "      --disabled-fill-color: #666;\n",
              "  }\n",
              "\n",
              "  .colab-df-quickchart {\n",
              "    background-color: var(--bg-color);\n",
              "    border: none;\n",
              "    border-radius: 50%;\n",
              "    cursor: pointer;\n",
              "    display: none;\n",
              "    fill: var(--fill-color);\n",
              "    height: 32px;\n",
              "    padding: 0;\n",
              "    width: 32px;\n",
              "  }\n",
              "\n",
              "  .colab-df-quickchart:hover {\n",
              "    background-color: var(--hover-bg-color);\n",
              "    box-shadow: 0 1px 2px rgba(60, 64, 67, 0.3), 0 1px 3px 1px rgba(60, 64, 67, 0.15);\n",
              "    fill: var(--button-hover-fill-color);\n",
              "  }\n",
              "\n",
              "  .colab-df-quickchart-complete:disabled,\n",
              "  .colab-df-quickchart-complete:disabled:hover {\n",
              "    background-color: var(--disabled-bg-color);\n",
              "    fill: var(--disabled-fill-color);\n",
              "    box-shadow: none;\n",
              "  }\n",
              "\n",
              "  .colab-df-spinner {\n",
              "    border: 2px solid var(--fill-color);\n",
              "    border-color: transparent;\n",
              "    border-bottom-color: var(--fill-color);\n",
              "    animation:\n",
              "      spin 1s steps(1) infinite;\n",
              "  }\n",
              "\n",
              "  @keyframes spin {\n",
              "    0% {\n",
              "      border-color: transparent;\n",
              "      border-bottom-color: var(--fill-color);\n",
              "      border-left-color: var(--fill-color);\n",
              "    }\n",
              "    20% {\n",
              "      border-color: transparent;\n",
              "      border-left-color: var(--fill-color);\n",
              "      border-top-color: var(--fill-color);\n",
              "    }\n",
              "    30% {\n",
              "      border-color: transparent;\n",
              "      border-left-color: var(--fill-color);\n",
              "      border-top-color: var(--fill-color);\n",
              "      border-right-color: var(--fill-color);\n",
              "    }\n",
              "    40% {\n",
              "      border-color: transparent;\n",
              "      border-right-color: var(--fill-color);\n",
              "      border-top-color: var(--fill-color);\n",
              "    }\n",
              "    60% {\n",
              "      border-color: transparent;\n",
              "      border-right-color: var(--fill-color);\n",
              "    }\n",
              "    80% {\n",
              "      border-color: transparent;\n",
              "      border-right-color: var(--fill-color);\n",
              "      border-bottom-color: var(--fill-color);\n",
              "    }\n",
              "    90% {\n",
              "      border-color: transparent;\n",
              "      border-bottom-color: var(--fill-color);\n",
              "    }\n",
              "  }\n",
              "</style>\n",
              "\n",
              "  <script>\n",
              "    async function quickchart(key) {\n",
              "      const quickchartButtonEl =\n",
              "        document.querySelector('#' + key + ' button');\n",
              "      quickchartButtonEl.disabled = true;  // To prevent multiple clicks.\n",
              "      quickchartButtonEl.classList.add('colab-df-spinner');\n",
              "      try {\n",
              "        const charts = await google.colab.kernel.invokeFunction(\n",
              "            'suggestCharts', [key], {});\n",
              "      } catch (error) {\n",
              "        console.error('Error during call to suggestCharts:', error);\n",
              "      }\n",
              "      quickchartButtonEl.classList.remove('colab-df-spinner');\n",
              "      quickchartButtonEl.classList.add('colab-df-quickchart-complete');\n",
              "    }\n",
              "    (() => {\n",
              "      let quickchartButtonEl =\n",
              "        document.querySelector('#df-db690618-b8da-4d53-945e-402b4bb02441 button');\n",
              "      quickchartButtonEl.style.display =\n",
              "        google.colab.kernel.accessAllowed ? 'block' : 'none';\n",
              "    })();\n",
              "  </script>\n",
              "</div>\n",
              "\n",
              "    </div>\n",
              "  </div>\n"
            ]
          },
          "metadata": {},
          "execution_count": 5
        }
      ]
    },
    {
      "cell_type": "code",
      "source": [
        "prostate_cancer_dataset.shape"
      ],
      "metadata": {
        "colab": {
          "base_uri": "https://localhost:8080/"
        },
        "id": "10vtOBUIlLCX",
        "outputId": "151ef2e8-605c-477c-b885-8f946c46b75a"
      },
      "execution_count": null,
      "outputs": [
        {
          "output_type": "execute_result",
          "data": {
            "text/plain": [
              "(100, 10)"
            ]
          },
          "metadata": {},
          "execution_count": 6
        }
      ]
    },
    {
      "cell_type": "code",
      "source": [
        "prostate_cancer_dataset.describe"
      ],
      "metadata": {
        "colab": {
          "base_uri": "https://localhost:8080/"
        },
        "id": "gbWUBkAMlO28",
        "outputId": "47fb9c17-9927-4628-fd13-5e3d6e541613"
      },
      "execution_count": null,
      "outputs": [
        {
          "output_type": "execute_result",
          "data": {
            "text/plain": [
              "<bound method NDFrame.describe of      id diagnosis_result  radius  texture  perimeter  area  smoothness  \\\n",
              "0     1                M      23       12        151   954       0.143   \n",
              "1     2                B       9       13        133  1326       0.143   \n",
              "2     3                M      21       27        130  1203       0.125   \n",
              "3     4                M      14       16         78   386       0.070   \n",
              "4     5                M       9       19        135  1297       0.141   \n",
              "..  ...              ...     ...      ...        ...   ...         ...   \n",
              "95   96                M      23       16        132  1264       0.091   \n",
              "96   97                B      22       14         78   451       0.105   \n",
              "97   98                B      19       27         62   295       0.102   \n",
              "98   99                B      21       24         74   413       0.090   \n",
              "99  100                M      16       27         94   643       0.098   \n",
              "\n",
              "    compactness  symmetry  fractal_dimension  \n",
              "0         0.278     0.242              0.079  \n",
              "1         0.079     0.181              0.057  \n",
              "2         0.160     0.207              0.060  \n",
              "3         0.284     0.260              0.097  \n",
              "4         0.133     0.181              0.059  \n",
              "..          ...       ...                ...  \n",
              "95        0.131     0.210              0.056  \n",
              "96        0.071     0.190              0.066  \n",
              "97        0.053     0.135              0.069  \n",
              "98        0.075     0.162              0.066  \n",
              "99        0.114     0.188              0.064  \n",
              "\n",
              "[100 rows x 10 columns]>"
            ]
          },
          "metadata": {},
          "execution_count": 7
        }
      ]
    },
    {
      "cell_type": "code",
      "source": [
        "prostate_cancer_dataset['diagnosis_result'].value_counts()"
      ],
      "metadata": {
        "colab": {
          "base_uri": "https://localhost:8080/"
        },
        "id": "-hxxrJKNlQNg",
        "outputId": "8dec86cb-5125-4044-ed1f-3790b043f774"
      },
      "execution_count": null,
      "outputs": [
        {
          "output_type": "execute_result",
          "data": {
            "text/plain": [
              "M    62\n",
              "B    38\n",
              "Name: diagnosis_result, dtype: int64"
            ]
          },
          "metadata": {},
          "execution_count": 8
        }
      ]
    },
    {
      "cell_type": "code",
      "source": [
        "prostate_cancer_dataset.groupby('diagnosis_result').mean()"
      ],
      "metadata": {
        "colab": {
          "base_uri": "https://localhost:8080/",
          "height": 143
        },
        "id": "KW8L5umClZDy",
        "outputId": "5c75be0f-72c8-4963-bc46-9c48a4b082c7"
      },
      "execution_count": null,
      "outputs": [
        {
          "output_type": "execute_result",
          "data": {
            "text/plain": [
              "                         id     radius    texture   perimeter        area  \\\n",
              "diagnosis_result                                                            \n",
              "B                 62.184211  17.947368  17.763158   78.500000  474.342105   \n",
              "M                 43.338710  16.177419  18.516129  107.983871  842.951613   \n",
              "\n",
              "                  smoothness  compactness  symmetry  fractal_dimension  \n",
              "diagnosis_result                                                        \n",
              "B                   0.099053     0.086895  0.184053           0.064605  \n",
              "M                   0.104984     0.151097  0.198758           0.064742  "
            ],
            "text/html": [
              "\n",
              "  <div id=\"df-ab6eb5d5-b790-413d-a373-4bd9abed9ff6\" class=\"colab-df-container\">\n",
              "    <div>\n",
              "<style scoped>\n",
              "    .dataframe tbody tr th:only-of-type {\n",
              "        vertical-align: middle;\n",
              "    }\n",
              "\n",
              "    .dataframe tbody tr th {\n",
              "        vertical-align: top;\n",
              "    }\n",
              "\n",
              "    .dataframe thead th {\n",
              "        text-align: right;\n",
              "    }\n",
              "</style>\n",
              "<table border=\"1\" class=\"dataframe\">\n",
              "  <thead>\n",
              "    <tr style=\"text-align: right;\">\n",
              "      <th></th>\n",
              "      <th>id</th>\n",
              "      <th>radius</th>\n",
              "      <th>texture</th>\n",
              "      <th>perimeter</th>\n",
              "      <th>area</th>\n",
              "      <th>smoothness</th>\n",
              "      <th>compactness</th>\n",
              "      <th>symmetry</th>\n",
              "      <th>fractal_dimension</th>\n",
              "    </tr>\n",
              "    <tr>\n",
              "      <th>diagnosis_result</th>\n",
              "      <th></th>\n",
              "      <th></th>\n",
              "      <th></th>\n",
              "      <th></th>\n",
              "      <th></th>\n",
              "      <th></th>\n",
              "      <th></th>\n",
              "      <th></th>\n",
              "      <th></th>\n",
              "    </tr>\n",
              "  </thead>\n",
              "  <tbody>\n",
              "    <tr>\n",
              "      <th>B</th>\n",
              "      <td>62.184211</td>\n",
              "      <td>17.947368</td>\n",
              "      <td>17.763158</td>\n",
              "      <td>78.500000</td>\n",
              "      <td>474.342105</td>\n",
              "      <td>0.099053</td>\n",
              "      <td>0.086895</td>\n",
              "      <td>0.184053</td>\n",
              "      <td>0.064605</td>\n",
              "    </tr>\n",
              "    <tr>\n",
              "      <th>M</th>\n",
              "      <td>43.338710</td>\n",
              "      <td>16.177419</td>\n",
              "      <td>18.516129</td>\n",
              "      <td>107.983871</td>\n",
              "      <td>842.951613</td>\n",
              "      <td>0.104984</td>\n",
              "      <td>0.151097</td>\n",
              "      <td>0.198758</td>\n",
              "      <td>0.064742</td>\n",
              "    </tr>\n",
              "  </tbody>\n",
              "</table>\n",
              "</div>\n",
              "    <div class=\"colab-df-buttons\">\n",
              "\n",
              "  <div class=\"colab-df-container\">\n",
              "    <button class=\"colab-df-convert\" onclick=\"convertToInteractive('df-ab6eb5d5-b790-413d-a373-4bd9abed9ff6')\"\n",
              "            title=\"Convert this dataframe to an interactive table.\"\n",
              "            style=\"display:none;\">\n",
              "\n",
              "  <svg xmlns=\"http://www.w3.org/2000/svg\" height=\"24px\" viewBox=\"0 -960 960 960\">\n",
              "    <path d=\"M120-120v-720h720v720H120Zm60-500h600v-160H180v160Zm220 220h160v-160H400v160Zm0 220h160v-160H400v160ZM180-400h160v-160H180v160Zm440 0h160v-160H620v160ZM180-180h160v-160H180v160Zm440 0h160v-160H620v160Z\"/>\n",
              "  </svg>\n",
              "    </button>\n",
              "\n",
              "  <style>\n",
              "    .colab-df-container {\n",
              "      display:flex;\n",
              "      gap: 12px;\n",
              "    }\n",
              "\n",
              "    .colab-df-convert {\n",
              "      background-color: #E8F0FE;\n",
              "      border: none;\n",
              "      border-radius: 50%;\n",
              "      cursor: pointer;\n",
              "      display: none;\n",
              "      fill: #1967D2;\n",
              "      height: 32px;\n",
              "      padding: 0 0 0 0;\n",
              "      width: 32px;\n",
              "    }\n",
              "\n",
              "    .colab-df-convert:hover {\n",
              "      background-color: #E2EBFA;\n",
              "      box-shadow: 0px 1px 2px rgba(60, 64, 67, 0.3), 0px 1px 3px 1px rgba(60, 64, 67, 0.15);\n",
              "      fill: #174EA6;\n",
              "    }\n",
              "\n",
              "    .colab-df-buttons div {\n",
              "      margin-bottom: 4px;\n",
              "    }\n",
              "\n",
              "    [theme=dark] .colab-df-convert {\n",
              "      background-color: #3B4455;\n",
              "      fill: #D2E3FC;\n",
              "    }\n",
              "\n",
              "    [theme=dark] .colab-df-convert:hover {\n",
              "      background-color: #434B5C;\n",
              "      box-shadow: 0px 1px 3px 1px rgba(0, 0, 0, 0.15);\n",
              "      filter: drop-shadow(0px 1px 2px rgba(0, 0, 0, 0.3));\n",
              "      fill: #FFFFFF;\n",
              "    }\n",
              "  </style>\n",
              "\n",
              "    <script>\n",
              "      const buttonEl =\n",
              "        document.querySelector('#df-ab6eb5d5-b790-413d-a373-4bd9abed9ff6 button.colab-df-convert');\n",
              "      buttonEl.style.display =\n",
              "        google.colab.kernel.accessAllowed ? 'block' : 'none';\n",
              "\n",
              "      async function convertToInteractive(key) {\n",
              "        const element = document.querySelector('#df-ab6eb5d5-b790-413d-a373-4bd9abed9ff6');\n",
              "        const dataTable =\n",
              "          await google.colab.kernel.invokeFunction('convertToInteractive',\n",
              "                                                    [key], {});\n",
              "        if (!dataTable) return;\n",
              "\n",
              "        const docLinkHtml = 'Like what you see? Visit the ' +\n",
              "          '<a target=\"_blank\" href=https://colab.research.google.com/notebooks/data_table.ipynb>data table notebook</a>'\n",
              "          + ' to learn more about interactive tables.';\n",
              "        element.innerHTML = '';\n",
              "        dataTable['output_type'] = 'display_data';\n",
              "        await google.colab.output.renderOutput(dataTable, element);\n",
              "        const docLink = document.createElement('div');\n",
              "        docLink.innerHTML = docLinkHtml;\n",
              "        element.appendChild(docLink);\n",
              "      }\n",
              "    </script>\n",
              "  </div>\n",
              "\n",
              "\n",
              "<div id=\"df-5ff30a4b-480f-48c0-bd47-6c36f5192094\">\n",
              "  <button class=\"colab-df-quickchart\" onclick=\"quickchart('df-5ff30a4b-480f-48c0-bd47-6c36f5192094')\"\n",
              "            title=\"Suggest charts\"\n",
              "            style=\"display:none;\">\n",
              "\n",
              "<svg xmlns=\"http://www.w3.org/2000/svg\" height=\"24px\"viewBox=\"0 0 24 24\"\n",
              "     width=\"24px\">\n",
              "    <g>\n",
              "        <path d=\"M19 3H5c-1.1 0-2 .9-2 2v14c0 1.1.9 2 2 2h14c1.1 0 2-.9 2-2V5c0-1.1-.9-2-2-2zM9 17H7v-7h2v7zm4 0h-2V7h2v10zm4 0h-2v-4h2v4z\"/>\n",
              "    </g>\n",
              "</svg>\n",
              "  </button>\n",
              "\n",
              "<style>\n",
              "  .colab-df-quickchart {\n",
              "      --bg-color: #E8F0FE;\n",
              "      --fill-color: #1967D2;\n",
              "      --hover-bg-color: #E2EBFA;\n",
              "      --hover-fill-color: #174EA6;\n",
              "      --disabled-fill-color: #AAA;\n",
              "      --disabled-bg-color: #DDD;\n",
              "  }\n",
              "\n",
              "  [theme=dark] .colab-df-quickchart {\n",
              "      --bg-color: #3B4455;\n",
              "      --fill-color: #D2E3FC;\n",
              "      --hover-bg-color: #434B5C;\n",
              "      --hover-fill-color: #FFFFFF;\n",
              "      --disabled-bg-color: #3B4455;\n",
              "      --disabled-fill-color: #666;\n",
              "  }\n",
              "\n",
              "  .colab-df-quickchart {\n",
              "    background-color: var(--bg-color);\n",
              "    border: none;\n",
              "    border-radius: 50%;\n",
              "    cursor: pointer;\n",
              "    display: none;\n",
              "    fill: var(--fill-color);\n",
              "    height: 32px;\n",
              "    padding: 0;\n",
              "    width: 32px;\n",
              "  }\n",
              "\n",
              "  .colab-df-quickchart:hover {\n",
              "    background-color: var(--hover-bg-color);\n",
              "    box-shadow: 0 1px 2px rgba(60, 64, 67, 0.3), 0 1px 3px 1px rgba(60, 64, 67, 0.15);\n",
              "    fill: var(--button-hover-fill-color);\n",
              "  }\n",
              "\n",
              "  .colab-df-quickchart-complete:disabled,\n",
              "  .colab-df-quickchart-complete:disabled:hover {\n",
              "    background-color: var(--disabled-bg-color);\n",
              "    fill: var(--disabled-fill-color);\n",
              "    box-shadow: none;\n",
              "  }\n",
              "\n",
              "  .colab-df-spinner {\n",
              "    border: 2px solid var(--fill-color);\n",
              "    border-color: transparent;\n",
              "    border-bottom-color: var(--fill-color);\n",
              "    animation:\n",
              "      spin 1s steps(1) infinite;\n",
              "  }\n",
              "\n",
              "  @keyframes spin {\n",
              "    0% {\n",
              "      border-color: transparent;\n",
              "      border-bottom-color: var(--fill-color);\n",
              "      border-left-color: var(--fill-color);\n",
              "    }\n",
              "    20% {\n",
              "      border-color: transparent;\n",
              "      border-left-color: var(--fill-color);\n",
              "      border-top-color: var(--fill-color);\n",
              "    }\n",
              "    30% {\n",
              "      border-color: transparent;\n",
              "      border-left-color: var(--fill-color);\n",
              "      border-top-color: var(--fill-color);\n",
              "      border-right-color: var(--fill-color);\n",
              "    }\n",
              "    40% {\n",
              "      border-color: transparent;\n",
              "      border-right-color: var(--fill-color);\n",
              "      border-top-color: var(--fill-color);\n",
              "    }\n",
              "    60% {\n",
              "      border-color: transparent;\n",
              "      border-right-color: var(--fill-color);\n",
              "    }\n",
              "    80% {\n",
              "      border-color: transparent;\n",
              "      border-right-color: var(--fill-color);\n",
              "      border-bottom-color: var(--fill-color);\n",
              "    }\n",
              "    90% {\n",
              "      border-color: transparent;\n",
              "      border-bottom-color: var(--fill-color);\n",
              "    }\n",
              "  }\n",
              "</style>\n",
              "\n",
              "  <script>\n",
              "    async function quickchart(key) {\n",
              "      const quickchartButtonEl =\n",
              "        document.querySelector('#' + key + ' button');\n",
              "      quickchartButtonEl.disabled = true;  // To prevent multiple clicks.\n",
              "      quickchartButtonEl.classList.add('colab-df-spinner');\n",
              "      try {\n",
              "        const charts = await google.colab.kernel.invokeFunction(\n",
              "            'suggestCharts', [key], {});\n",
              "      } catch (error) {\n",
              "        console.error('Error during call to suggestCharts:', error);\n",
              "      }\n",
              "      quickchartButtonEl.classList.remove('colab-df-spinner');\n",
              "      quickchartButtonEl.classList.add('colab-df-quickchart-complete');\n",
              "    }\n",
              "    (() => {\n",
              "      let quickchartButtonEl =\n",
              "        document.querySelector('#df-5ff30a4b-480f-48c0-bd47-6c36f5192094 button');\n",
              "      quickchartButtonEl.style.display =\n",
              "        google.colab.kernel.accessAllowed ? 'block' : 'none';\n",
              "    })();\n",
              "  </script>\n",
              "</div>\n",
              "\n",
              "    </div>\n",
              "  </div>\n"
            ]
          },
          "metadata": {},
          "execution_count": 9
        }
      ]
    },
    {
      "cell_type": "code",
      "source": [
        "# separating the data and labels\n",
        "X = prostate_cancer_dataset.drop(columns = ['id','diagnosis_result'], axis=1)\n",
        "Y = prostate_cancer_dataset['diagnosis_result']"
      ],
      "metadata": {
        "id": "q2dYVdVVlgQW"
      },
      "execution_count": null,
      "outputs": []
    },
    {
      "cell_type": "code",
      "source": [
        "print(X)"
      ],
      "metadata": {
        "colab": {
          "base_uri": "https://localhost:8080/"
        },
        "id": "mQxpxcpnlpCo",
        "outputId": "71348953-f12e-475b-fd73-38074500d49d"
      },
      "execution_count": null,
      "outputs": [
        {
          "output_type": "stream",
          "name": "stdout",
          "text": [
            "    radius  texture  perimeter  area  smoothness  compactness  symmetry  \\\n",
            "0       23       12        151   954       0.143        0.278     0.242   \n",
            "1        9       13        133  1326       0.143        0.079     0.181   \n",
            "2       21       27        130  1203       0.125        0.160     0.207   \n",
            "3       14       16         78   386       0.070        0.284     0.260   \n",
            "4        9       19        135  1297       0.141        0.133     0.181   \n",
            "..     ...      ...        ...   ...         ...          ...       ...   \n",
            "95      23       16        132  1264       0.091        0.131     0.210   \n",
            "96      22       14         78   451       0.105        0.071     0.190   \n",
            "97      19       27         62   295       0.102        0.053     0.135   \n",
            "98      21       24         74   413       0.090        0.075     0.162   \n",
            "99      16       27         94   643       0.098        0.114     0.188   \n",
            "\n",
            "    fractal_dimension  \n",
            "0               0.079  \n",
            "1               0.057  \n",
            "2               0.060  \n",
            "3               0.097  \n",
            "4               0.059  \n",
            "..                ...  \n",
            "95              0.056  \n",
            "96              0.066  \n",
            "97              0.069  \n",
            "98              0.066  \n",
            "99              0.064  \n",
            "\n",
            "[100 rows x 8 columns]\n"
          ]
        }
      ]
    },
    {
      "cell_type": "code",
      "source": [
        "print(Y)"
      ],
      "metadata": {
        "colab": {
          "base_uri": "https://localhost:8080/"
        },
        "id": "lVB0AqYRlrND",
        "outputId": "b9ceb910-6b64-4d97-bc97-f4d91f04464e"
      },
      "execution_count": null,
      "outputs": [
        {
          "output_type": "stream",
          "name": "stdout",
          "text": [
            "0     M\n",
            "1     B\n",
            "2     M\n",
            "3     M\n",
            "4     M\n",
            "     ..\n",
            "95    M\n",
            "96    B\n",
            "97    B\n",
            "98    B\n",
            "99    M\n",
            "Name: diagnosis_result, Length: 100, dtype: object\n"
          ]
        }
      ]
    },
    {
      "cell_type": "markdown",
      "metadata": {
        "id": "tUPYps4DlVFR"
      },
      "source": [
        "Separating the features and target"
      ]
    },
    {
      "cell_type": "code",
      "source": [
        "scaler = StandardScaler()"
      ],
      "metadata": {
        "id": "XqbqP7QymIKN"
      },
      "execution_count": null,
      "outputs": []
    },
    {
      "cell_type": "code",
      "source": [
        "scaler.fit(X)"
      ],
      "metadata": {
        "colab": {
          "base_uri": "https://localhost:8080/",
          "height": 74
        },
        "id": "Ulk4AIJvmJav",
        "outputId": "488b05d7-53c9-4802-88f7-64651e569fa1"
      },
      "execution_count": null,
      "outputs": [
        {
          "output_type": "execute_result",
          "data": {
            "text/plain": [
              "StandardScaler()"
            ],
            "text/html": [
              "<style>#sk-container-id-1 {color: black;background-color: white;}#sk-container-id-1 pre{padding: 0;}#sk-container-id-1 div.sk-toggleable {background-color: white;}#sk-container-id-1 label.sk-toggleable__label {cursor: pointer;display: block;width: 100%;margin-bottom: 0;padding: 0.3em;box-sizing: border-box;text-align: center;}#sk-container-id-1 label.sk-toggleable__label-arrow:before {content: \"▸\";float: left;margin-right: 0.25em;color: #696969;}#sk-container-id-1 label.sk-toggleable__label-arrow:hover:before {color: black;}#sk-container-id-1 div.sk-estimator:hover label.sk-toggleable__label-arrow:before {color: black;}#sk-container-id-1 div.sk-toggleable__content {max-height: 0;max-width: 0;overflow: hidden;text-align: left;background-color: #f0f8ff;}#sk-container-id-1 div.sk-toggleable__content pre {margin: 0.2em;color: black;border-radius: 0.25em;background-color: #f0f8ff;}#sk-container-id-1 input.sk-toggleable__control:checked~div.sk-toggleable__content {max-height: 200px;max-width: 100%;overflow: auto;}#sk-container-id-1 input.sk-toggleable__control:checked~label.sk-toggleable__label-arrow:before {content: \"▾\";}#sk-container-id-1 div.sk-estimator input.sk-toggleable__control:checked~label.sk-toggleable__label {background-color: #d4ebff;}#sk-container-id-1 div.sk-label input.sk-toggleable__control:checked~label.sk-toggleable__label {background-color: #d4ebff;}#sk-container-id-1 input.sk-hidden--visually {border: 0;clip: rect(1px 1px 1px 1px);clip: rect(1px, 1px, 1px, 1px);height: 1px;margin: -1px;overflow: hidden;padding: 0;position: absolute;width: 1px;}#sk-container-id-1 div.sk-estimator {font-family: monospace;background-color: #f0f8ff;border: 1px dotted black;border-radius: 0.25em;box-sizing: border-box;margin-bottom: 0.5em;}#sk-container-id-1 div.sk-estimator:hover {background-color: #d4ebff;}#sk-container-id-1 div.sk-parallel-item::after {content: \"\";width: 100%;border-bottom: 1px solid gray;flex-grow: 1;}#sk-container-id-1 div.sk-label:hover label.sk-toggleable__label {background-color: #d4ebff;}#sk-container-id-1 div.sk-serial::before {content: \"\";position: absolute;border-left: 1px solid gray;box-sizing: border-box;top: 0;bottom: 0;left: 50%;z-index: 0;}#sk-container-id-1 div.sk-serial {display: flex;flex-direction: column;align-items: center;background-color: white;padding-right: 0.2em;padding-left: 0.2em;position: relative;}#sk-container-id-1 div.sk-item {position: relative;z-index: 1;}#sk-container-id-1 div.sk-parallel {display: flex;align-items: stretch;justify-content: center;background-color: white;position: relative;}#sk-container-id-1 div.sk-item::before, #sk-container-id-1 div.sk-parallel-item::before {content: \"\";position: absolute;border-left: 1px solid gray;box-sizing: border-box;top: 0;bottom: 0;left: 50%;z-index: -1;}#sk-container-id-1 div.sk-parallel-item {display: flex;flex-direction: column;z-index: 1;position: relative;background-color: white;}#sk-container-id-1 div.sk-parallel-item:first-child::after {align-self: flex-end;width: 50%;}#sk-container-id-1 div.sk-parallel-item:last-child::after {align-self: flex-start;width: 50%;}#sk-container-id-1 div.sk-parallel-item:only-child::after {width: 0;}#sk-container-id-1 div.sk-dashed-wrapped {border: 1px dashed gray;margin: 0 0.4em 0.5em 0.4em;box-sizing: border-box;padding-bottom: 0.4em;background-color: white;}#sk-container-id-1 div.sk-label label {font-family: monospace;font-weight: bold;display: inline-block;line-height: 1.2em;}#sk-container-id-1 div.sk-label-container {text-align: center;}#sk-container-id-1 div.sk-container {/* jupyter's `normalize.less` sets `[hidden] { display: none; }` but bootstrap.min.css set `[hidden] { display: none !important; }` so we also need the `!important` here to be able to override the default hidden behavior on the sphinx rendered scikit-learn.org. See: https://github.com/scikit-learn/scikit-learn/issues/21755 */display: inline-block !important;position: relative;}#sk-container-id-1 div.sk-text-repr-fallback {display: none;}</style><div id=\"sk-container-id-1\" class=\"sk-top-container\"><div class=\"sk-text-repr-fallback\"><pre>StandardScaler()</pre><b>In a Jupyter environment, please rerun this cell to show the HTML representation or trust the notebook. <br />On GitHub, the HTML representation is unable to render, please try loading this page with nbviewer.org.</b></div><div class=\"sk-container\" hidden><div class=\"sk-item\"><div class=\"sk-estimator sk-toggleable\"><input class=\"sk-toggleable__control sk-hidden--visually\" id=\"sk-estimator-id-1\" type=\"checkbox\" checked><label for=\"sk-estimator-id-1\" class=\"sk-toggleable__label sk-toggleable__label-arrow\">StandardScaler</label><div class=\"sk-toggleable__content\"><pre>StandardScaler()</pre></div></div></div></div></div>"
            ]
          },
          "metadata": {},
          "execution_count": 14
        }
      ]
    },
    {
      "cell_type": "code",
      "source": [
        "standardized_data = scaler.transform(X)"
      ],
      "metadata": {
        "id": "zgZYtHWZmLSq"
      },
      "execution_count": null,
      "outputs": []
    },
    {
      "cell_type": "code",
      "source": [
        "print(standardized_data)"
      ],
      "metadata": {
        "colab": {
          "base_uri": "https://localhost:8080/"
        },
        "id": "Mdjw1RnkmNGU",
        "outputId": "58b42bbe-9cec-40e0-8bbe-37f55be36947"
      },
      "execution_count": null,
      "outputs": [
        {
          "output_type": "stream",
          "name": "stdout",
          "text": [
            "[[ 1.26683005e+00 -1.20574648e+00  2.30161118e+00  7.89416627e-01\n",
            "   2.76420965e+00  2.48697022e+00  1.59415115e+00  1.76446414e+00]\n",
            " [-1.61701072e+00 -1.01220772e+00  1.53752042e+00  1.95882960e+00\n",
            "   2.76420965e+00 -7.84061332e-01 -3.97313527e-01 -9.48199109e-01]\n",
            " [ 8.54852801e-01  1.69733493e+00  1.41017196e+00  1.57216886e+00\n",
            "   1.52865530e+00  5.47363571e-01  4.51507484e-01 -5.78290484e-01]\n",
            " [-5.87067586e-01 -4.31591436e-01 -7.97201366e-01 -9.96138662e-01\n",
            "  -2.24664966e+00  2.58559429e+00  2.18179647e+00  3.98391589e+00]\n",
            " [-1.61701072e+00  1.49024846e-01  1.62241939e+00  1.86766568e+00\n",
            "   2.62692583e+00  1.03555270e-01 -3.97313527e-01 -7.01593359e-01]\n",
            " [ 1.67880731e+00  1.31025741e+00 -5.84953931e-01 -7.10072586e-01\n",
            "   1.73458102e+00  7.11737016e-01  5.16801408e-01  1.39455552e+00]\n",
            " [-1.75090333e-01  1.50379617e+00  9.85677088e-01  1.05976479e+00\n",
            "  -5.30601951e-01 -2.90940997e-01 -4.62607451e-01 -9.48199109e-01]\n",
            " [-3.81078959e-01 -4.45139150e-02 -2.87807522e-01 -3.92570677e-01\n",
            "   1.11680385e+00  6.29550293e-01  8.75917990e-01  1.27125264e+00]\n",
            " [ 4.42875547e-01  1.11671865e+00 -3.72706496e-01 -5.74898506e-01\n",
            "   1.66593911e+00  1.08979594e+00  1.36562242e+00  1.14794977e+00]\n",
            " [ 1.67880731e+00 -1.39928524e+00 -5.42504444e-01 -7.13216169e-01\n",
            "   1.11680385e+00  1.86235113e+00  3.20919636e-01  2.13437277e+00]\n",
            " [ 1.47281868e+00  5.36102367e-01  2.64035809e-01  2.99017639e-01\n",
            "  -1.42294676e+00 -9.81309465e-01 -1.31142846e+00 -9.48199109e-01]\n",
            " [ 3.08982940e-02 -6.25130197e-01  3.06485296e-01  2.45576724e-01\n",
            "  -3.93318134e-01  3.78058923e-02 -2.99372641e-01 -4.54987609e-01]\n",
            " [-5.87067586e-01 -6.25130197e-01  1.49507093e+00  1.32068220e+00\n",
            "  -3.93318134e-01  1.96097520e+00  1.52885723e+00  1.64116127e+00]\n",
            " [-9.99044839e-01  7.29641128e-01  3.06485296e-01  2.51863890e-01\n",
            "  -1.28566294e+00 -4.38877098e-01 -2.66725679e-01 -1.44141061e+00]\n",
            " [-9.99044839e-01 -1.01220772e+00 -1.18009574e-01 -3.92570677e-01\n",
            "   7.04952398e-01  1.68154034e+00  4.51507484e-01  1.51785839e+00]\n",
            " [ 1.06084143e+00  1.49024846e-01  9.33888714e-03 -1.37940433e-01\n",
            "   7.73594306e-01  5.47363571e-01  1.20238761e+00  7.78041142e-01]\n",
            " [-1.41102209e+00 -4.31591436e-01 -7.55600868e-02 -5.62072686e-02\n",
            "  -2.56034318e-01 -8.99122743e-01 -1.11554669e+00 -7.01593359e-01]\n",
            " [-3.81078959e-01 -8.18668958e-01  4.76283244e-01  3.02161223e-01\n",
            "   9.79520031e-01  1.23773204e+00  7.45330142e-01  1.14794977e+00]\n",
            " [ 6.48864174e-01 -8.18668958e-01  1.41017196e+00  1.75135310e+00\n",
            "  -3.24676226e-01 -3.89565064e-01 -1.14819365e+00 -1.31810773e+00]\n",
            " [ 3.08982940e-02 -1.39928524e+00 -4.15155983e-01 -4.30293676e-01\n",
            "  -3.24676226e-01 -7.51186643e-01 -1.36137831e-01 -8.24896234e-01]\n",
            " [-1.75090333e-01 -8.18668958e-01 -4.57605470e-01 -5.74898506e-01\n",
            "   3.61742857e-01  4.93120334e-03  1.25037864e-01  4.08132516e-01]\n",
            " [ 3.08982940e-02  1.11671865e+00 -1.56129213e+00 -1.34821999e+00\n",
            "  -5.01085930e-02 -1.01418415e+00 -3.64666565e-01  5.31435391e-01]\n",
            " [ 6.48864174e-01  1.69733493e+00  2.64035809e-01  3.52081325e-03\n",
            "   2.93100948e-01  1.43498017e+00  1.92062077e+00  6.54738267e-01]\n",
            " [ 4.42875547e-01 -1.20574648e+00  1.70731837e+00  2.20402909e+00\n",
            "  -5.99243859e-01 -4.06002409e-01 -5.27901375e-01 -1.44141061e+00]\n",
            " [-1.61701072e+00 -1.01220772e+00  5.61182218e-01  6.35381048e-01\n",
            "   6.36310490e-01  3.17240748e-01  2.22978750e-01 -2.08381859e-01]\n",
            " [ 4.42875547e-01  1.69733493e+00  8.15879140e-01  6.60529714e-01\n",
            "   1.11680385e+00  1.66510300e+00  3.61826279e+00  1.14794977e+00]\n",
            " [-1.41102209e+00  1.11671865e+00  9.33888714e-03 -1.81950599e-01\n",
            "   1.55817132e-01  9.91171872e-01  1.03915280e+00  5.31435391e-01]\n",
            " [-1.75090333e-01  1.11671865e+00  1.07057606e+00  1.22951828e+00\n",
            "  -5.99243859e-01 -3.23815686e-01 -7.56430109e-01 -9.48199109e-01]\n",
            " [-3.81078959e-01 -6.25130197e-01  2.21586322e-01  9.15411444e-02\n",
            "   3.61742857e-01  7.11737016e-01 -5.54998353e-03  3.82238913e-02]\n",
            " [-1.20503347e+00 -4.31591436e-01  7.73429653e-01  7.92560211e-01\n",
            "  -3.24676226e-01 -1.75879586e-01 -6.25842261e-01 -4.54987609e-01]\n",
            " [-1.20503347e+00  7.29641128e-01  1.19792452e+00  1.21065678e+00\n",
            "   2.24459040e-01  1.02404656e+00  8.10624066e-01 -3.31684734e-01]\n",
            " [ 1.26683005e+00  1.50379617e+00 -7.97201366e-01 -8.23241583e-01\n",
            "   5.67668581e-01  4.15864815e-01  1.20238761e+00  1.64116127e+00]\n",
            " [ 6.48864174e-01 -4.45139150e-02  6.88530679e-01  6.16519548e-01\n",
            "   1.18544576e+00  3.82990126e-01  1.03915280e+00 -8.50789838e-02]\n",
            " [-1.20503347e+00  5.36102367e-01  1.32527298e+00  1.44328194e+00\n",
            "  -5.99243859e-01  7.44611705e-01 -2.66725679e-01 -2.08381859e-01]\n",
            " [-1.75090333e-01  9.23179889e-01  4.33833757e-01  3.27309889e-01\n",
            "   8.71752235e-02  4.81614193e-01  2.22978750e-01  3.82238913e-02]\n",
            " [-1.41102209e+00 -1.01220772e+00  5.61182218e-01  5.25355634e-01\n",
            "  -4.61960043e-01  1.19992615e-01 -1.03490869e-01 -9.48199109e-01]\n",
            " [ 2.36886921e-01 -1.20574648e+00 -1.18009574e-01 -2.19673598e-01\n",
            "  -3.24676226e-01 -2.74503653e-01 -1.36137831e-01 -4.54987609e-01]\n",
            " [ 8.54852801e-01 -1.39928524e+00 -5.84953931e-01 -5.62324173e-01\n",
            "  -8.73811492e-01 -1.45799246e+00 -1.50731023e+00 -7.01593359e-01]\n",
            " [-1.20503347e+00 -6.25130197e-01 -3.31105999e-02 -1.21971030e-02\n",
            "  -5.99243859e-01 -1.24430698e+00 -1.18084061e+00 -1.19480486e+00]\n",
            " [-1.41102209e+00 -8.18668958e-01 -3.72706496e-01 -4.52298759e-01\n",
            "  -5.01085930e-02 -1.15061411e-02 -6.91136185e-01 -8.50789838e-02]\n",
            " [ 1.47281868e+00 -4.31591436e-01 -4.57605470e-01 -4.39724426e-01\n",
            "  -1.42294676e+00 -1.09637088e+00 -4.95254413e-01 -1.07150198e+00]\n",
            " [ 4.42875547e-01  1.69733493e+00 -1.05189829e+00 -1.04329241e+00\n",
            "   1.39137148e+00 -7.72555190e-02 -1.03490869e-01  5.31435391e-01]\n",
            " [-1.20503347e+00 -1.39928524e+00  1.32527298e+00  1.26095412e+00\n",
            "  -8.05169584e-01  1.51716690e+00  1.23503457e+00 -2.08381859e-01]\n",
            " [-3.81078959e-01  5.36102367e-01 -4.15155983e-01 -4.96308924e-01\n",
            "   8.71752235e-02  2.84366059e-01  1.25037864e-01  4.08132516e-01]\n",
            " [-1.41102209e+00 -6.25130197e-01 -5.00054957e-01 -5.37175507e-01\n",
            "  -3.93318134e-01 -3.56690375e-01 -5.93195299e-01 -3.31684734e-01]\n",
            " [ 2.36886921e-01 -1.39928524e+00  1.15547504e+00  1.17293378e+00\n",
            "   4.99026673e-01  6.95299671e-01 -7.08439075e-02 -5.78290484e-01]\n",
            " [ 1.06084143e+00 -1.20574648e+00 -1.90088803e+00 -1.57455798e+00\n",
            "  -1.14837913e+00 -1.11280822e+00 -5.27901375e-01  3.82238913e-02]\n",
            " [ 6.48864174e-01 -8.18668958e-01 -4.57605470e-01 -5.27744757e-01\n",
            "   9.10878123e-01 -6.08181746e-02  6.47389256e-01  4.08132516e-01]\n",
            " [ 6.48864174e-01  5.36102367e-01 -7.97201366e-01 -7.98092917e-01\n",
            "   1.85333152e-02 -5.86813198e-01 -8.21724033e-01 -5.78290484e-01]\n",
            " [ 1.67880731e+00 -1.39928524e+00 -4.15155983e-01 -4.46011592e-01\n",
            "  -1.01109531e+00 -8.16936020e-01 -3.97313527e-01 -9.48199109e-01]\n",
            " [ 4.42875547e-01  1.31025741e+00 -9.24549827e-01 -8.64108165e-01\n",
            "  -1.14837913e+00 -1.26074432e+00 -1.40936935e+00 -7.01593359e-01]\n",
            " [ 4.42875547e-01  7.29641128e-01 -4.15155983e-01 -4.11432177e-01\n",
            "  -1.76615630e+00 -1.07993353e+00 -1.89907378e+00 -5.78290484e-01]\n",
            " [ 1.67880731e+00 -6.25130197e-01 -8.82100340e-01 -8.32672333e-01\n",
            "  -1.35430485e+00 -1.29361901e+00 -2.01431755e-01 -4.54987609e-01]\n",
            " [-5.87067586e-01  1.50379617e+00  9.85677088e-01  1.03775970e+00\n",
            "   8.42236215e-01  3.66552782e-01  5.16801408e-01 -2.08381859e-01]\n",
            " [ 2.36886921e-01  1.31025741e+00  9.33888714e-03  3.18130626e-02\n",
            "  -8.05169584e-01 -9.15560087e-01 -1.01760580e+00 -9.48199109e-01]\n",
            " [ 2.36886921e-01 -1.01220772e+00 -1.00944880e+00 -9.23836247e-01\n",
            "  -5.30601951e-01 -1.17855760e+00 -3.81969455e-02 -7.01593359e-01]\n",
            " [-1.41102209e+00  1.49024846e-01  1.24037401e+00  1.41184611e+00\n",
            "   1.55817132e-01  4.93120334e-03 -3.81969455e-02 -5.78290484e-01]\n",
            " [ 3.08982940e-02  3.42563607e-01 -3.31105999e-02 -1.44227600e-01\n",
            "   7.73594306e-01  1.69304648e-01  3.20919636e-01  4.08132516e-01]\n",
            " [ 1.06084143e+00 -6.25130197e-01 -5.84953931e-01 -5.52893423e-01\n",
            "  -1.49158867e+00 -1.45799246e+00 -3.64666565e-01 -1.19480486e+00]\n",
            " [ 1.26683005e+00  1.50379617e+00 -1.81598905e+00 -1.50225557e+00\n",
            "  -3.24676226e-01 -1.21143229e+00 -8.21724033e-01  9.01344017e-01]\n",
            " [-3.81078959e-01 -4.45139150e-02 -1.34904470e+00 -1.22876382e+00\n",
            "   7.04952398e-01 -7.51186643e-01  2.63885394e+00  6.54738267e-01]\n",
            " [ 1.67880731e+00 -6.25130197e-01 -1.77353957e+00 -1.51168632e+00\n",
            "   1.46001339e+00 -6.03250542e-01 -3.32019603e-01  4.08132516e-01]\n",
            " [-9.99044839e-01  7.29641128e-01 -3.31105999e-02 -1.78807016e-01\n",
            "   1.55817132e-01  1.22129469e+00  5.97439404e-02  1.02464689e+00]\n",
            " [ 1.47281868e+00 -2.38052676e-01 -1.60374162e+00 -1.38908657e+00\n",
            "  -1.76615630e+00 -6.36125231e-01  1.33297546e+00  6.54738267e-01]\n",
            " [-1.75090333e-01  1.49024846e-01 -5.84953931e-01 -6.40913754e-01\n",
            "   6.36310490e-01 -1.15061411e-02 -7.08439075e-02  1.61526766e-01]\n",
            " [-1.20503347e+00  5.36102367e-01  9.33888714e-03 -1.09648184e-01\n",
            "   9.79520031e-01  3.50115437e-01  5.97439404e-02  2.84829641e-01]\n",
            " [-9.99044839e-01 -1.01220772e+00 -1.56129213e+00 -1.36393790e+00\n",
            "   8.71752235e-02 -8.00498676e-01 -6.91136185e-01  5.31435391e-01]\n",
            " [ 2.36886921e-01 -1.20574648e+00 -1.05189829e+00 -9.70989996e-01\n",
            "  -1.49158867e+00 -1.31005635e+00 -1.34407542e+00 -9.48199109e-01]\n",
            " [-1.75090333e-01 -2.38052676e-01 -1.60374162e+00 -1.42052240e+00\n",
            "   2.93100948e-01  2.35054026e-01  5.82095332e-01  1.88776702e+00]\n",
            " [ 3.08982940e-02  5.36102367e-01 -6.69852905e-01 -6.28339421e-01\n",
            "  -3.24676226e-01 -1.22786963e+00 -1.11554669e+00 -9.48199109e-01]\n",
            " [ 8.54852801e-01 -4.45139150e-02  1.15547504e+00  1.34268728e+00\n",
            "  -8.73811492e-01 -3.89565064e-01 -1.14819365e+00 -1.19480486e+00]\n",
            " [-1.61701072e+00  1.50379617e+00 -1.60374162e+00 -1.44252748e+00\n",
            "  -3.24676226e-01  4.32302160e-01 -1.03490869e-01  3.12079577e+00]\n",
            " [ 8.54852801e-01 -1.20574648e+00  7.30980166e-01  7.10827046e-01\n",
            "   2.93100948e-01  9.25422494e-01 -5.54998353e-03  3.82238913e-02]\n",
            " [ 1.06084143e+00  1.31025741e+00 -2.87807522e-01 -3.73709177e-01\n",
            "  -1.18750501e-01  2.13685478e-02 -8.87017957e-01  1.61526766e-01]\n",
            " [ 2.36886921e-01 -1.01220772e+00 -7.54751879e-01 -7.28934085e-01\n",
            "  -7.36527676e-01 -9.64872121e-01 -6.91136185e-01 -7.01593359e-01]\n",
            " [ 8.54852801e-01 -4.45139150e-02  3.06485296e-01  3.61889304e-01\n",
            "  -7.36527676e-01 -7.01874609e-01 -4.29960489e-01 -1.31810773e+00]\n",
            " [-1.41102209e+00 -2.38052676e-01 -3.72706496e-01 -4.52298759e-01\n",
            "   1.80322293e+00 -3.56690375e-01  1.52885723e+00  1.61526766e-01]\n",
            " [-1.20503347e+00  5.36102367e-01  9.85677088e-01  9.52882957e-01\n",
            "   2.93100948e-01  1.45141752e+00  7.12683180e-01  2.84829641e-01]\n",
            " [-1.75090333e-01 -4.45139150e-02  2.00446478e+00  1.70419935e+00\n",
            "   1.80322293e+00  3.58827230e+00  3.19385229e+00  2.01106989e+00]\n",
            " [ 1.06084143e+00 -4.31591436e-01 -5.84953931e-01 -6.18908671e-01\n",
            "  -2.56034318e-01 -5.21063820e-01 -6.91136185e-01 -5.78290484e-01]\n",
            " [-1.41102209e+00 -4.45139150e-02 -9.66999314e-01 -9.45841330e-01\n",
            "   4.99026673e-01 -5.37501164e-01 -2.99372641e-01  6.54738267e-01]\n",
            " [ 3.08982940e-02  5.36102367e-01 -4.57605470e-01 -5.74898506e-01\n",
            "   3.61742857e-01  4.48739504e-01  2.70969784e-02  5.31435391e-01]\n",
            " [-1.41102209e+00 -6.25130197e-01  3.19305041e+00  3.69408756e+00\n",
            "   2.24459040e-01  2.30615943e+00 -3.32019603e-01  4.08132516e-01]\n",
            " [ 6.48864174e-01 -8.18668958e-01  1.36772247e+00  1.34897445e+00\n",
            "   1.32272957e+00  8.59673116e-01 -9.84958843e-01  9.01344017e-01]\n",
            " [ 1.67880731e+00  5.36102367e-01 -8.39650853e-01 -8.16954417e-01\n",
            "  -3.93318134e-01 -8.99122743e-01  4.84154446e-01 -5.78290484e-01]\n",
            " [-5.87067586e-01 -1.01220772e+00  1.02812657e+00  1.16979020e+00\n",
            "  -2.56034318e-01 -3.56690375e-01  6.47389256e-01 -5.78290484e-01]\n",
            " [ 4.42875547e-01  1.50379617e+00 -1.18009574e-01 -1.72519849e-01\n",
            "  -5.99243859e-01 -4.55314442e-01  4.84154446e-01 -1.07150198e+00]\n",
            " [ 4.42875547e-01 -1.39928524e+00  1.07057606e+00  1.17293378e+00\n",
            "  -8.73811492e-01 -9.36928635e-02  5.97439404e-02 -1.07150198e+00]\n",
            " [-1.20503347e+00 -1.39928524e+00 -7.12302392e-01 -7.44652002e-01\n",
            "  -1.01109531e+00 -5.37501164e-01 -5.54998353e-03 -8.50789838e-02]\n",
            " [-9.99044839e-01  9.23179889e-01 -3.31105999e-02 -1.59945516e-01\n",
            "   7.04952398e-01  1.19992615e-01  6.14742294e-01 -2.08381859e-01]\n",
            " [ 1.26683005e+00  1.69733493e+00 -7.55600868e-02 -1.25366100e-01\n",
            "  -8.73811492e-01 -6.68999920e-01 -7.89077071e-01 -7.01593359e-01]\n",
            " [-1.41102209e+00 -1.20574648e+00  1.36687348e-01  7.89668114e-02\n",
            "  -7.36527676e-01 -3.73127720e-01 -6.91136185e-01 -4.54987609e-01]\n",
            " [-5.87067586e-01 -8.18668958e-01 -5.00054957e-01 -4.74303842e-01\n",
            "  -1.97208202e+00 -1.24430698e+00 -1.76848593e+00 -1.44141061e+00]\n",
            " [-1.41102209e+00 -2.38052676e-01 -4.15155983e-01 -4.64873092e-01\n",
            "  -5.01085930e-02 -7.34749298e-01 -9.52311881e-01 -9.48199109e-01]\n",
            " [ 1.06084143e+00  1.50379617e+00  1.36687348e-01  9.80797976e-03\n",
            "   8.71752235e-02  4.65176849e-01 -2.34078717e-01 -2.08381859e-01]\n",
            " [ 1.26683005e+00 -4.31591436e-01  1.49507093e+00  1.76392744e+00\n",
            "  -8.05169584e-01  7.06805813e-02  5.49448370e-01 -1.07150198e+00]\n",
            " [ 1.06084143e+00 -8.18668958e-01 -7.97201366e-01 -7.91805751e-01\n",
            "   1.55817132e-01 -9.15560087e-01 -1.03490869e-01  1.61526766e-01]\n",
            " [ 4.42875547e-01  1.69733493e+00 -1.47639316e+00 -1.28220474e+00\n",
            "  -5.01085930e-02 -1.21143229e+00 -1.89907378e+00  5.31435391e-01]\n",
            " [ 8.54852801e-01  1.11671865e+00 -9.66999314e-01 -9.11261914e-01\n",
            "  -8.73811492e-01 -8.49810709e-01 -1.01760580e+00  1.61526766e-01]\n",
            " [-1.75090333e-01  1.69733493e+00 -1.18009574e-01 -1.88237765e-01\n",
            "  -3.24676226e-01 -2.08754275e-01 -1.68784793e-01 -8.50789838e-02]]\n"
          ]
        }
      ]
    },
    {
      "cell_type": "code",
      "source": [
        "X = standardized_data\n",
        "Y = prostate_cancer_dataset['diagnosis_result']"
      ],
      "metadata": {
        "id": "YaARL_1UmO46"
      },
      "execution_count": null,
      "outputs": []
    },
    {
      "cell_type": "code",
      "source": [
        "print(X)\n",
        "print(Y)"
      ],
      "metadata": {
        "colab": {
          "base_uri": "https://localhost:8080/"
        },
        "id": "xSPBELlnmWQT",
        "outputId": "9f022144-a55e-4cad-c640-fcaae2720dbb"
      },
      "execution_count": null,
      "outputs": [
        {
          "output_type": "stream",
          "name": "stdout",
          "text": [
            "[[ 1.26683005e+00 -1.20574648e+00  2.30161118e+00  7.89416627e-01\n",
            "   2.76420965e+00  2.48697022e+00  1.59415115e+00  1.76446414e+00]\n",
            " [-1.61701072e+00 -1.01220772e+00  1.53752042e+00  1.95882960e+00\n",
            "   2.76420965e+00 -7.84061332e-01 -3.97313527e-01 -9.48199109e-01]\n",
            " [ 8.54852801e-01  1.69733493e+00  1.41017196e+00  1.57216886e+00\n",
            "   1.52865530e+00  5.47363571e-01  4.51507484e-01 -5.78290484e-01]\n",
            " [-5.87067586e-01 -4.31591436e-01 -7.97201366e-01 -9.96138662e-01\n",
            "  -2.24664966e+00  2.58559429e+00  2.18179647e+00  3.98391589e+00]\n",
            " [-1.61701072e+00  1.49024846e-01  1.62241939e+00  1.86766568e+00\n",
            "   2.62692583e+00  1.03555270e-01 -3.97313527e-01 -7.01593359e-01]\n",
            " [ 1.67880731e+00  1.31025741e+00 -5.84953931e-01 -7.10072586e-01\n",
            "   1.73458102e+00  7.11737016e-01  5.16801408e-01  1.39455552e+00]\n",
            " [-1.75090333e-01  1.50379617e+00  9.85677088e-01  1.05976479e+00\n",
            "  -5.30601951e-01 -2.90940997e-01 -4.62607451e-01 -9.48199109e-01]\n",
            " [-3.81078959e-01 -4.45139150e-02 -2.87807522e-01 -3.92570677e-01\n",
            "   1.11680385e+00  6.29550293e-01  8.75917990e-01  1.27125264e+00]\n",
            " [ 4.42875547e-01  1.11671865e+00 -3.72706496e-01 -5.74898506e-01\n",
            "   1.66593911e+00  1.08979594e+00  1.36562242e+00  1.14794977e+00]\n",
            " [ 1.67880731e+00 -1.39928524e+00 -5.42504444e-01 -7.13216169e-01\n",
            "   1.11680385e+00  1.86235113e+00  3.20919636e-01  2.13437277e+00]\n",
            " [ 1.47281868e+00  5.36102367e-01  2.64035809e-01  2.99017639e-01\n",
            "  -1.42294676e+00 -9.81309465e-01 -1.31142846e+00 -9.48199109e-01]\n",
            " [ 3.08982940e-02 -6.25130197e-01  3.06485296e-01  2.45576724e-01\n",
            "  -3.93318134e-01  3.78058923e-02 -2.99372641e-01 -4.54987609e-01]\n",
            " [-5.87067586e-01 -6.25130197e-01  1.49507093e+00  1.32068220e+00\n",
            "  -3.93318134e-01  1.96097520e+00  1.52885723e+00  1.64116127e+00]\n",
            " [-9.99044839e-01  7.29641128e-01  3.06485296e-01  2.51863890e-01\n",
            "  -1.28566294e+00 -4.38877098e-01 -2.66725679e-01 -1.44141061e+00]\n",
            " [-9.99044839e-01 -1.01220772e+00 -1.18009574e-01 -3.92570677e-01\n",
            "   7.04952398e-01  1.68154034e+00  4.51507484e-01  1.51785839e+00]\n",
            " [ 1.06084143e+00  1.49024846e-01  9.33888714e-03 -1.37940433e-01\n",
            "   7.73594306e-01  5.47363571e-01  1.20238761e+00  7.78041142e-01]\n",
            " [-1.41102209e+00 -4.31591436e-01 -7.55600868e-02 -5.62072686e-02\n",
            "  -2.56034318e-01 -8.99122743e-01 -1.11554669e+00 -7.01593359e-01]\n",
            " [-3.81078959e-01 -8.18668958e-01  4.76283244e-01  3.02161223e-01\n",
            "   9.79520031e-01  1.23773204e+00  7.45330142e-01  1.14794977e+00]\n",
            " [ 6.48864174e-01 -8.18668958e-01  1.41017196e+00  1.75135310e+00\n",
            "  -3.24676226e-01 -3.89565064e-01 -1.14819365e+00 -1.31810773e+00]\n",
            " [ 3.08982940e-02 -1.39928524e+00 -4.15155983e-01 -4.30293676e-01\n",
            "  -3.24676226e-01 -7.51186643e-01 -1.36137831e-01 -8.24896234e-01]\n",
            " [-1.75090333e-01 -8.18668958e-01 -4.57605470e-01 -5.74898506e-01\n",
            "   3.61742857e-01  4.93120334e-03  1.25037864e-01  4.08132516e-01]\n",
            " [ 3.08982940e-02  1.11671865e+00 -1.56129213e+00 -1.34821999e+00\n",
            "  -5.01085930e-02 -1.01418415e+00 -3.64666565e-01  5.31435391e-01]\n",
            " [ 6.48864174e-01  1.69733493e+00  2.64035809e-01  3.52081325e-03\n",
            "   2.93100948e-01  1.43498017e+00  1.92062077e+00  6.54738267e-01]\n",
            " [ 4.42875547e-01 -1.20574648e+00  1.70731837e+00  2.20402909e+00\n",
            "  -5.99243859e-01 -4.06002409e-01 -5.27901375e-01 -1.44141061e+00]\n",
            " [-1.61701072e+00 -1.01220772e+00  5.61182218e-01  6.35381048e-01\n",
            "   6.36310490e-01  3.17240748e-01  2.22978750e-01 -2.08381859e-01]\n",
            " [ 4.42875547e-01  1.69733493e+00  8.15879140e-01  6.60529714e-01\n",
            "   1.11680385e+00  1.66510300e+00  3.61826279e+00  1.14794977e+00]\n",
            " [-1.41102209e+00  1.11671865e+00  9.33888714e-03 -1.81950599e-01\n",
            "   1.55817132e-01  9.91171872e-01  1.03915280e+00  5.31435391e-01]\n",
            " [-1.75090333e-01  1.11671865e+00  1.07057606e+00  1.22951828e+00\n",
            "  -5.99243859e-01 -3.23815686e-01 -7.56430109e-01 -9.48199109e-01]\n",
            " [-3.81078959e-01 -6.25130197e-01  2.21586322e-01  9.15411444e-02\n",
            "   3.61742857e-01  7.11737016e-01 -5.54998353e-03  3.82238913e-02]\n",
            " [-1.20503347e+00 -4.31591436e-01  7.73429653e-01  7.92560211e-01\n",
            "  -3.24676226e-01 -1.75879586e-01 -6.25842261e-01 -4.54987609e-01]\n",
            " [-1.20503347e+00  7.29641128e-01  1.19792452e+00  1.21065678e+00\n",
            "   2.24459040e-01  1.02404656e+00  8.10624066e-01 -3.31684734e-01]\n",
            " [ 1.26683005e+00  1.50379617e+00 -7.97201366e-01 -8.23241583e-01\n",
            "   5.67668581e-01  4.15864815e-01  1.20238761e+00  1.64116127e+00]\n",
            " [ 6.48864174e-01 -4.45139150e-02  6.88530679e-01  6.16519548e-01\n",
            "   1.18544576e+00  3.82990126e-01  1.03915280e+00 -8.50789838e-02]\n",
            " [-1.20503347e+00  5.36102367e-01  1.32527298e+00  1.44328194e+00\n",
            "  -5.99243859e-01  7.44611705e-01 -2.66725679e-01 -2.08381859e-01]\n",
            " [-1.75090333e-01  9.23179889e-01  4.33833757e-01  3.27309889e-01\n",
            "   8.71752235e-02  4.81614193e-01  2.22978750e-01  3.82238913e-02]\n",
            " [-1.41102209e+00 -1.01220772e+00  5.61182218e-01  5.25355634e-01\n",
            "  -4.61960043e-01  1.19992615e-01 -1.03490869e-01 -9.48199109e-01]\n",
            " [ 2.36886921e-01 -1.20574648e+00 -1.18009574e-01 -2.19673598e-01\n",
            "  -3.24676226e-01 -2.74503653e-01 -1.36137831e-01 -4.54987609e-01]\n",
            " [ 8.54852801e-01 -1.39928524e+00 -5.84953931e-01 -5.62324173e-01\n",
            "  -8.73811492e-01 -1.45799246e+00 -1.50731023e+00 -7.01593359e-01]\n",
            " [-1.20503347e+00 -6.25130197e-01 -3.31105999e-02 -1.21971030e-02\n",
            "  -5.99243859e-01 -1.24430698e+00 -1.18084061e+00 -1.19480486e+00]\n",
            " [-1.41102209e+00 -8.18668958e-01 -3.72706496e-01 -4.52298759e-01\n",
            "  -5.01085930e-02 -1.15061411e-02 -6.91136185e-01 -8.50789838e-02]\n",
            " [ 1.47281868e+00 -4.31591436e-01 -4.57605470e-01 -4.39724426e-01\n",
            "  -1.42294676e+00 -1.09637088e+00 -4.95254413e-01 -1.07150198e+00]\n",
            " [ 4.42875547e-01  1.69733493e+00 -1.05189829e+00 -1.04329241e+00\n",
            "   1.39137148e+00 -7.72555190e-02 -1.03490869e-01  5.31435391e-01]\n",
            " [-1.20503347e+00 -1.39928524e+00  1.32527298e+00  1.26095412e+00\n",
            "  -8.05169584e-01  1.51716690e+00  1.23503457e+00 -2.08381859e-01]\n",
            " [-3.81078959e-01  5.36102367e-01 -4.15155983e-01 -4.96308924e-01\n",
            "   8.71752235e-02  2.84366059e-01  1.25037864e-01  4.08132516e-01]\n",
            " [-1.41102209e+00 -6.25130197e-01 -5.00054957e-01 -5.37175507e-01\n",
            "  -3.93318134e-01 -3.56690375e-01 -5.93195299e-01 -3.31684734e-01]\n",
            " [ 2.36886921e-01 -1.39928524e+00  1.15547504e+00  1.17293378e+00\n",
            "   4.99026673e-01  6.95299671e-01 -7.08439075e-02 -5.78290484e-01]\n",
            " [ 1.06084143e+00 -1.20574648e+00 -1.90088803e+00 -1.57455798e+00\n",
            "  -1.14837913e+00 -1.11280822e+00 -5.27901375e-01  3.82238913e-02]\n",
            " [ 6.48864174e-01 -8.18668958e-01 -4.57605470e-01 -5.27744757e-01\n",
            "   9.10878123e-01 -6.08181746e-02  6.47389256e-01  4.08132516e-01]\n",
            " [ 6.48864174e-01  5.36102367e-01 -7.97201366e-01 -7.98092917e-01\n",
            "   1.85333152e-02 -5.86813198e-01 -8.21724033e-01 -5.78290484e-01]\n",
            " [ 1.67880731e+00 -1.39928524e+00 -4.15155983e-01 -4.46011592e-01\n",
            "  -1.01109531e+00 -8.16936020e-01 -3.97313527e-01 -9.48199109e-01]\n",
            " [ 4.42875547e-01  1.31025741e+00 -9.24549827e-01 -8.64108165e-01\n",
            "  -1.14837913e+00 -1.26074432e+00 -1.40936935e+00 -7.01593359e-01]\n",
            " [ 4.42875547e-01  7.29641128e-01 -4.15155983e-01 -4.11432177e-01\n",
            "  -1.76615630e+00 -1.07993353e+00 -1.89907378e+00 -5.78290484e-01]\n",
            " [ 1.67880731e+00 -6.25130197e-01 -8.82100340e-01 -8.32672333e-01\n",
            "  -1.35430485e+00 -1.29361901e+00 -2.01431755e-01 -4.54987609e-01]\n",
            " [-5.87067586e-01  1.50379617e+00  9.85677088e-01  1.03775970e+00\n",
            "   8.42236215e-01  3.66552782e-01  5.16801408e-01 -2.08381859e-01]\n",
            " [ 2.36886921e-01  1.31025741e+00  9.33888714e-03  3.18130626e-02\n",
            "  -8.05169584e-01 -9.15560087e-01 -1.01760580e+00 -9.48199109e-01]\n",
            " [ 2.36886921e-01 -1.01220772e+00 -1.00944880e+00 -9.23836247e-01\n",
            "  -5.30601951e-01 -1.17855760e+00 -3.81969455e-02 -7.01593359e-01]\n",
            " [-1.41102209e+00  1.49024846e-01  1.24037401e+00  1.41184611e+00\n",
            "   1.55817132e-01  4.93120334e-03 -3.81969455e-02 -5.78290484e-01]\n",
            " [ 3.08982940e-02  3.42563607e-01 -3.31105999e-02 -1.44227600e-01\n",
            "   7.73594306e-01  1.69304648e-01  3.20919636e-01  4.08132516e-01]\n",
            " [ 1.06084143e+00 -6.25130197e-01 -5.84953931e-01 -5.52893423e-01\n",
            "  -1.49158867e+00 -1.45799246e+00 -3.64666565e-01 -1.19480486e+00]\n",
            " [ 1.26683005e+00  1.50379617e+00 -1.81598905e+00 -1.50225557e+00\n",
            "  -3.24676226e-01 -1.21143229e+00 -8.21724033e-01  9.01344017e-01]\n",
            " [-3.81078959e-01 -4.45139150e-02 -1.34904470e+00 -1.22876382e+00\n",
            "   7.04952398e-01 -7.51186643e-01  2.63885394e+00  6.54738267e-01]\n",
            " [ 1.67880731e+00 -6.25130197e-01 -1.77353957e+00 -1.51168632e+00\n",
            "   1.46001339e+00 -6.03250542e-01 -3.32019603e-01  4.08132516e-01]\n",
            " [-9.99044839e-01  7.29641128e-01 -3.31105999e-02 -1.78807016e-01\n",
            "   1.55817132e-01  1.22129469e+00  5.97439404e-02  1.02464689e+00]\n",
            " [ 1.47281868e+00 -2.38052676e-01 -1.60374162e+00 -1.38908657e+00\n",
            "  -1.76615630e+00 -6.36125231e-01  1.33297546e+00  6.54738267e-01]\n",
            " [-1.75090333e-01  1.49024846e-01 -5.84953931e-01 -6.40913754e-01\n",
            "   6.36310490e-01 -1.15061411e-02 -7.08439075e-02  1.61526766e-01]\n",
            " [-1.20503347e+00  5.36102367e-01  9.33888714e-03 -1.09648184e-01\n",
            "   9.79520031e-01  3.50115437e-01  5.97439404e-02  2.84829641e-01]\n",
            " [-9.99044839e-01 -1.01220772e+00 -1.56129213e+00 -1.36393790e+00\n",
            "   8.71752235e-02 -8.00498676e-01 -6.91136185e-01  5.31435391e-01]\n",
            " [ 2.36886921e-01 -1.20574648e+00 -1.05189829e+00 -9.70989996e-01\n",
            "  -1.49158867e+00 -1.31005635e+00 -1.34407542e+00 -9.48199109e-01]\n",
            " [-1.75090333e-01 -2.38052676e-01 -1.60374162e+00 -1.42052240e+00\n",
            "   2.93100948e-01  2.35054026e-01  5.82095332e-01  1.88776702e+00]\n",
            " [ 3.08982940e-02  5.36102367e-01 -6.69852905e-01 -6.28339421e-01\n",
            "  -3.24676226e-01 -1.22786963e+00 -1.11554669e+00 -9.48199109e-01]\n",
            " [ 8.54852801e-01 -4.45139150e-02  1.15547504e+00  1.34268728e+00\n",
            "  -8.73811492e-01 -3.89565064e-01 -1.14819365e+00 -1.19480486e+00]\n",
            " [-1.61701072e+00  1.50379617e+00 -1.60374162e+00 -1.44252748e+00\n",
            "  -3.24676226e-01  4.32302160e-01 -1.03490869e-01  3.12079577e+00]\n",
            " [ 8.54852801e-01 -1.20574648e+00  7.30980166e-01  7.10827046e-01\n",
            "   2.93100948e-01  9.25422494e-01 -5.54998353e-03  3.82238913e-02]\n",
            " [ 1.06084143e+00  1.31025741e+00 -2.87807522e-01 -3.73709177e-01\n",
            "  -1.18750501e-01  2.13685478e-02 -8.87017957e-01  1.61526766e-01]\n",
            " [ 2.36886921e-01 -1.01220772e+00 -7.54751879e-01 -7.28934085e-01\n",
            "  -7.36527676e-01 -9.64872121e-01 -6.91136185e-01 -7.01593359e-01]\n",
            " [ 8.54852801e-01 -4.45139150e-02  3.06485296e-01  3.61889304e-01\n",
            "  -7.36527676e-01 -7.01874609e-01 -4.29960489e-01 -1.31810773e+00]\n",
            " [-1.41102209e+00 -2.38052676e-01 -3.72706496e-01 -4.52298759e-01\n",
            "   1.80322293e+00 -3.56690375e-01  1.52885723e+00  1.61526766e-01]\n",
            " [-1.20503347e+00  5.36102367e-01  9.85677088e-01  9.52882957e-01\n",
            "   2.93100948e-01  1.45141752e+00  7.12683180e-01  2.84829641e-01]\n",
            " [-1.75090333e-01 -4.45139150e-02  2.00446478e+00  1.70419935e+00\n",
            "   1.80322293e+00  3.58827230e+00  3.19385229e+00  2.01106989e+00]\n",
            " [ 1.06084143e+00 -4.31591436e-01 -5.84953931e-01 -6.18908671e-01\n",
            "  -2.56034318e-01 -5.21063820e-01 -6.91136185e-01 -5.78290484e-01]\n",
            " [-1.41102209e+00 -4.45139150e-02 -9.66999314e-01 -9.45841330e-01\n",
            "   4.99026673e-01 -5.37501164e-01 -2.99372641e-01  6.54738267e-01]\n",
            " [ 3.08982940e-02  5.36102367e-01 -4.57605470e-01 -5.74898506e-01\n",
            "   3.61742857e-01  4.48739504e-01  2.70969784e-02  5.31435391e-01]\n",
            " [-1.41102209e+00 -6.25130197e-01  3.19305041e+00  3.69408756e+00\n",
            "   2.24459040e-01  2.30615943e+00 -3.32019603e-01  4.08132516e-01]\n",
            " [ 6.48864174e-01 -8.18668958e-01  1.36772247e+00  1.34897445e+00\n",
            "   1.32272957e+00  8.59673116e-01 -9.84958843e-01  9.01344017e-01]\n",
            " [ 1.67880731e+00  5.36102367e-01 -8.39650853e-01 -8.16954417e-01\n",
            "  -3.93318134e-01 -8.99122743e-01  4.84154446e-01 -5.78290484e-01]\n",
            " [-5.87067586e-01 -1.01220772e+00  1.02812657e+00  1.16979020e+00\n",
            "  -2.56034318e-01 -3.56690375e-01  6.47389256e-01 -5.78290484e-01]\n",
            " [ 4.42875547e-01  1.50379617e+00 -1.18009574e-01 -1.72519849e-01\n",
            "  -5.99243859e-01 -4.55314442e-01  4.84154446e-01 -1.07150198e+00]\n",
            " [ 4.42875547e-01 -1.39928524e+00  1.07057606e+00  1.17293378e+00\n",
            "  -8.73811492e-01 -9.36928635e-02  5.97439404e-02 -1.07150198e+00]\n",
            " [-1.20503347e+00 -1.39928524e+00 -7.12302392e-01 -7.44652002e-01\n",
            "  -1.01109531e+00 -5.37501164e-01 -5.54998353e-03 -8.50789838e-02]\n",
            " [-9.99044839e-01  9.23179889e-01 -3.31105999e-02 -1.59945516e-01\n",
            "   7.04952398e-01  1.19992615e-01  6.14742294e-01 -2.08381859e-01]\n",
            " [ 1.26683005e+00  1.69733493e+00 -7.55600868e-02 -1.25366100e-01\n",
            "  -8.73811492e-01 -6.68999920e-01 -7.89077071e-01 -7.01593359e-01]\n",
            " [-1.41102209e+00 -1.20574648e+00  1.36687348e-01  7.89668114e-02\n",
            "  -7.36527676e-01 -3.73127720e-01 -6.91136185e-01 -4.54987609e-01]\n",
            " [-5.87067586e-01 -8.18668958e-01 -5.00054957e-01 -4.74303842e-01\n",
            "  -1.97208202e+00 -1.24430698e+00 -1.76848593e+00 -1.44141061e+00]\n",
            " [-1.41102209e+00 -2.38052676e-01 -4.15155983e-01 -4.64873092e-01\n",
            "  -5.01085930e-02 -7.34749298e-01 -9.52311881e-01 -9.48199109e-01]\n",
            " [ 1.06084143e+00  1.50379617e+00  1.36687348e-01  9.80797976e-03\n",
            "   8.71752235e-02  4.65176849e-01 -2.34078717e-01 -2.08381859e-01]\n",
            " [ 1.26683005e+00 -4.31591436e-01  1.49507093e+00  1.76392744e+00\n",
            "  -8.05169584e-01  7.06805813e-02  5.49448370e-01 -1.07150198e+00]\n",
            " [ 1.06084143e+00 -8.18668958e-01 -7.97201366e-01 -7.91805751e-01\n",
            "   1.55817132e-01 -9.15560087e-01 -1.03490869e-01  1.61526766e-01]\n",
            " [ 4.42875547e-01  1.69733493e+00 -1.47639316e+00 -1.28220474e+00\n",
            "  -5.01085930e-02 -1.21143229e+00 -1.89907378e+00  5.31435391e-01]\n",
            " [ 8.54852801e-01  1.11671865e+00 -9.66999314e-01 -9.11261914e-01\n",
            "  -8.73811492e-01 -8.49810709e-01 -1.01760580e+00  1.61526766e-01]\n",
            " [-1.75090333e-01  1.69733493e+00 -1.18009574e-01 -1.88237765e-01\n",
            "  -3.24676226e-01 -2.08754275e-01 -1.68784793e-01 -8.50789838e-02]]\n",
            "0     M\n",
            "1     B\n",
            "2     M\n",
            "3     M\n",
            "4     M\n",
            "     ..\n",
            "95    M\n",
            "96    B\n",
            "97    B\n",
            "98    B\n",
            "99    M\n",
            "Name: diagnosis_result, Length: 100, dtype: object\n"
          ]
        }
      ]
    },
    {
      "cell_type": "markdown",
      "metadata": {
        "id": "B5yk9d-Nl4VV"
      },
      "source": [
        "Splitting the data into training data & Testing data"
      ]
    },
    {
      "cell_type": "code",
      "source": [
        "X_train, X_test, Y_train, Y_test = train_test_split(X, Y, test_size=0.2, random_state=2)"
      ],
      "metadata": {
        "id": "eQMiOUNZmeZl"
      },
      "execution_count": null,
      "outputs": []
    },
    {
      "cell_type": "code",
      "source": [
        "print(X.shape, X_train.shape, X_test.shape)"
      ],
      "metadata": {
        "colab": {
          "base_uri": "https://localhost:8080/"
        },
        "id": "_oNiAxMumgNO",
        "outputId": "febb2e2c-326e-44cc-e2c3-52d677daa5de"
      },
      "execution_count": null,
      "outputs": [
        {
          "output_type": "stream",
          "name": "stdout",
          "text": [
            "(100, 8) (80, 8) (20, 8)\n"
          ]
        }
      ]
    },
    {
      "cell_type": "markdown",
      "metadata": {
        "id": "ttUvP8-im6z3"
      },
      "source": [
        "Model Training"
      ]
    },
    {
      "cell_type": "code",
      "source": [
        "model = SVC()"
      ],
      "metadata": {
        "id": "33csp3LRnSN4"
      },
      "execution_count": null,
      "outputs": []
    },
    {
      "cell_type": "code",
      "source": [
        "# training the Logistic Regression model using Training data\n",
        "\n",
        "model.fit(X_train, Y_train)"
      ],
      "metadata": {
        "colab": {
          "base_uri": "https://localhost:8080/",
          "height": 74
        },
        "id": "37A2TXNVnXIK",
        "outputId": "3d7a3a1a-1eeb-4079-a9c6-e9d88c971cfb"
      },
      "execution_count": null,
      "outputs": [
        {
          "output_type": "execute_result",
          "data": {
            "text/plain": [
              "SVC()"
            ],
            "text/html": [
              "<style>#sk-container-id-2 {color: black;background-color: white;}#sk-container-id-2 pre{padding: 0;}#sk-container-id-2 div.sk-toggleable {background-color: white;}#sk-container-id-2 label.sk-toggleable__label {cursor: pointer;display: block;width: 100%;margin-bottom: 0;padding: 0.3em;box-sizing: border-box;text-align: center;}#sk-container-id-2 label.sk-toggleable__label-arrow:before {content: \"▸\";float: left;margin-right: 0.25em;color: #696969;}#sk-container-id-2 label.sk-toggleable__label-arrow:hover:before {color: black;}#sk-container-id-2 div.sk-estimator:hover label.sk-toggleable__label-arrow:before {color: black;}#sk-container-id-2 div.sk-toggleable__content {max-height: 0;max-width: 0;overflow: hidden;text-align: left;background-color: #f0f8ff;}#sk-container-id-2 div.sk-toggleable__content pre {margin: 0.2em;color: black;border-radius: 0.25em;background-color: #f0f8ff;}#sk-container-id-2 input.sk-toggleable__control:checked~div.sk-toggleable__content {max-height: 200px;max-width: 100%;overflow: auto;}#sk-container-id-2 input.sk-toggleable__control:checked~label.sk-toggleable__label-arrow:before {content: \"▾\";}#sk-container-id-2 div.sk-estimator input.sk-toggleable__control:checked~label.sk-toggleable__label {background-color: #d4ebff;}#sk-container-id-2 div.sk-label input.sk-toggleable__control:checked~label.sk-toggleable__label {background-color: #d4ebff;}#sk-container-id-2 input.sk-hidden--visually {border: 0;clip: rect(1px 1px 1px 1px);clip: rect(1px, 1px, 1px, 1px);height: 1px;margin: -1px;overflow: hidden;padding: 0;position: absolute;width: 1px;}#sk-container-id-2 div.sk-estimator {font-family: monospace;background-color: #f0f8ff;border: 1px dotted black;border-radius: 0.25em;box-sizing: border-box;margin-bottom: 0.5em;}#sk-container-id-2 div.sk-estimator:hover {background-color: #d4ebff;}#sk-container-id-2 div.sk-parallel-item::after {content: \"\";width: 100%;border-bottom: 1px solid gray;flex-grow: 1;}#sk-container-id-2 div.sk-label:hover label.sk-toggleable__label {background-color: #d4ebff;}#sk-container-id-2 div.sk-serial::before {content: \"\";position: absolute;border-left: 1px solid gray;box-sizing: border-box;top: 0;bottom: 0;left: 50%;z-index: 0;}#sk-container-id-2 div.sk-serial {display: flex;flex-direction: column;align-items: center;background-color: white;padding-right: 0.2em;padding-left: 0.2em;position: relative;}#sk-container-id-2 div.sk-item {position: relative;z-index: 1;}#sk-container-id-2 div.sk-parallel {display: flex;align-items: stretch;justify-content: center;background-color: white;position: relative;}#sk-container-id-2 div.sk-item::before, #sk-container-id-2 div.sk-parallel-item::before {content: \"\";position: absolute;border-left: 1px solid gray;box-sizing: border-box;top: 0;bottom: 0;left: 50%;z-index: -1;}#sk-container-id-2 div.sk-parallel-item {display: flex;flex-direction: column;z-index: 1;position: relative;background-color: white;}#sk-container-id-2 div.sk-parallel-item:first-child::after {align-self: flex-end;width: 50%;}#sk-container-id-2 div.sk-parallel-item:last-child::after {align-self: flex-start;width: 50%;}#sk-container-id-2 div.sk-parallel-item:only-child::after {width: 0;}#sk-container-id-2 div.sk-dashed-wrapped {border: 1px dashed gray;margin: 0 0.4em 0.5em 0.4em;box-sizing: border-box;padding-bottom: 0.4em;background-color: white;}#sk-container-id-2 div.sk-label label {font-family: monospace;font-weight: bold;display: inline-block;line-height: 1.2em;}#sk-container-id-2 div.sk-label-container {text-align: center;}#sk-container-id-2 div.sk-container {/* jupyter's `normalize.less` sets `[hidden] { display: none; }` but bootstrap.min.css set `[hidden] { display: none !important; }` so we also need the `!important` here to be able to override the default hidden behavior on the sphinx rendered scikit-learn.org. See: https://github.com/scikit-learn/scikit-learn/issues/21755 */display: inline-block !important;position: relative;}#sk-container-id-2 div.sk-text-repr-fallback {display: none;}</style><div id=\"sk-container-id-2\" class=\"sk-top-container\"><div class=\"sk-text-repr-fallback\"><pre>SVC()</pre><b>In a Jupyter environment, please rerun this cell to show the HTML representation or trust the notebook. <br />On GitHub, the HTML representation is unable to render, please try loading this page with nbviewer.org.</b></div><div class=\"sk-container\" hidden><div class=\"sk-item\"><div class=\"sk-estimator sk-toggleable\"><input class=\"sk-toggleable__control sk-hidden--visually\" id=\"sk-estimator-id-2\" type=\"checkbox\" checked><label for=\"sk-estimator-id-2\" class=\"sk-toggleable__label sk-toggleable__label-arrow\">SVC</label><div class=\"sk-toggleable__content\"><pre>SVC()</pre></div></div></div></div></div>"
            ]
          },
          "metadata": {},
          "execution_count": 26
        }
      ]
    },
    {
      "cell_type": "markdown",
      "metadata": {
        "id": "_Wvez7R5nj5P"
      },
      "source": [
        "Model Evaluation"
      ]
    },
    {
      "cell_type": "markdown",
      "metadata": {
        "id": "Um1zCUo1nmI1"
      },
      "source": [
        "Accuracy Score"
      ]
    },
    {
      "cell_type": "code",
      "source": [
        "# accuracy on training data\n",
        "X_train_prediction = model.predict(X_train)\n",
        "training_data_accuracy = accuracy_score(Y_train, X_train_prediction)"
      ],
      "metadata": {
        "id": "Wf-gisQXrIcT"
      },
      "execution_count": null,
      "outputs": []
    },
    {
      "cell_type": "code",
      "source": [
        "print('Accuracy on training data = ', training_data_accuracy)"
      ],
      "metadata": {
        "colab": {
          "base_uri": "https://localhost:8080/"
        },
        "id": "jmzKLx6TrIzG",
        "outputId": "6607bfa0-58dc-4ebd-a649-29c8442dbe96"
      },
      "execution_count": null,
      "outputs": [
        {
          "output_type": "stream",
          "name": "stdout",
          "text": [
            "Accuracy on training data =  0.8875\n"
          ]
        }
      ]
    },
    {
      "cell_type": "code",
      "source": [
        "# accuracy on test data\n",
        "X_test_prediction = model.predict(X_test)\n",
        "test_data_accuracy = accuracy_score(Y_test, X_test_prediction)"
      ],
      "metadata": {
        "id": "VmJ6y98ZrKlK"
      },
      "execution_count": null,
      "outputs": []
    },
    {
      "cell_type": "code",
      "source": [
        "print('Accuracy on test data = ', test_data_accuracy)"
      ],
      "metadata": {
        "colab": {
          "base_uri": "https://localhost:8080/"
        },
        "id": "grbeXNJLrNKH",
        "outputId": "6208240f-b19d-4a86-fc61-3121465cba68"
      },
      "execution_count": null,
      "outputs": [
        {
          "output_type": "stream",
          "name": "stdout",
          "text": [
            "Accuracy on test data =  0.95\n"
          ]
        }
      ]
    }
  ]
}